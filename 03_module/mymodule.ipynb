{
 "cells": [
  {
   "cell_type": "code",
   "execution_count": 15,
   "id": "2dcee215-6dff-4179-aab1-ffae20e801c8",
   "metadata": {},
   "outputs": [],
   "source": [
    "myvaribable = \"This is global variable!\"\n",
    "\n",
    "def myfunc():\n",
    "    print(\"This is my function!!\")\n",
    "    \n",
    "def myfunc2():\n",
    "    print(\"This is my function2!!\")\n",
    "\n"
   ]
  },
  {
   "cell_type": "code",
   "execution_count": null,
   "id": "da583e5f-3905-4762-aa8e-7ee81b5d2378",
   "metadata": {},
   "outputs": [],
   "source": []
  }
 ],
 "metadata": {
  "kernelspec": {
   "display_name": "Python 3 (ipykernel)",
   "language": "python",
   "name": "python3"
  },
  "language_info": {
   "codemirror_mode": {
    "name": "ipython",
    "version": 3
   },
   "file_extension": ".py",
   "mimetype": "text/x-python",
   "name": "python",
   "nbconvert_exporter": "python",
   "pygments_lexer": "ipython3",
   "version": "3.9.13"
  }
 },
 "nbformat": 4,
 "nbformat_minor": 5
}
