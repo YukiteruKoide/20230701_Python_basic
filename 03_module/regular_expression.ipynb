{
 "cells": [
  {
   "cell_type": "markdown",
   "id": "7f848f05-c5d1-40ea-a597-ebd96d48a012",
   "metadata": {},
   "source": [
    "# Regular_Expression：正規表現"
   ]
  },
  {
   "cell_type": "markdown",
   "id": "6f5ed259-c085-43b9-8a03-2bdf8772cbe7",
   "metadata": {
    "tags": []
   },
   "source": [
    "## reモジュールの使い方"
   ]
  },
  {
   "cell_type": "code",
   "execution_count": 78,
   "id": "e963a885-911e-4e61-9603-1f0b7bf03300",
   "metadata": {},
   "outputs": [],
   "source": [
    "import re"
   ]
  },
  {
   "cell_type": "code",
   "execution_count": 12,
   "id": "c3d3cedc-b2dc-46f3-a4f6-1856e2942079",
   "metadata": {},
   "outputs": [
    {
     "name": "stdout",
     "output_type": "stream",
     "text": [
      "<re.Match object; span=(7, 14), match='@gmail.'>\n",
      "Matched\n"
     ]
    }
   ],
   "source": [
    "# emailの例\n",
    "email = \"myemail@gmail.com\"\n",
    "\n",
    "# メールの形が正しいか？\n",
    "matched = re.search('@\\w+\\.',email)\n",
    "\n",
    "if matched:\n",
    "    print(matched)\n",
    "    print(\"Matched\")\n",
    "else:\n",
    "    print(\"Not found!\")"
   ]
  },
  {
   "cell_type": "markdown",
   "id": "d1664ea4-133d-4f33-8cf0-b761967d22f3",
   "metadata": {},
   "source": [
    "## 具体例"
   ]
  },
  {
   "cell_type": "markdown",
   "id": "1673d98e-157c-483f-8886-d404b306b2e0",
   "metadata": {},
   "source": [
    "### [ ]：マッチするかを判別する"
   ]
  },
  {
   "cell_type": "code",
   "execution_count": 17,
   "id": "a6234420-5110-4e46-b6d7-f7903c5d7474",
   "metadata": {},
   "outputs": [
    {
     "name": "stdout",
     "output_type": "stream",
     "text": [
      "<re.Match object; span=(0, 1), match='a'>\n",
      "None\n",
      "<re.Match object; span=(0, 1), match='a'>\n"
     ]
    }
   ],
   "source": [
    "print(re.search('[abc]', 'a'))\n",
    "print(re.search('[abc]', 'd'))\n",
    "print(re.search('[abc]', 'apple'))"
   ]
  },
  {
   "cell_type": "code",
   "execution_count": 20,
   "id": "d2673c3e-477e-4952-b44f-0707ed6dd888",
   "metadata": {},
   "outputs": [
    {
     "name": "stdout",
     "output_type": "stream",
     "text": [
      "None\n",
      "<re.Match object; span=(0, 1), match='4'>\n",
      "<re.Match object; span=(4, 5), match='4'>\n"
     ]
    }
   ],
   "source": [
    "print(re.search('[0-9]', 'apple'))\n",
    "print(re.search('[0-9]', '4'))\n",
    "print(re.search('[0-9]', 'asdf4'))"
   ]
  },
  {
   "cell_type": "markdown",
   "id": "f7d8af09-735d-42ee-9a30-12e50ce4aed9",
   "metadata": {},
   "source": [
    "### ^：最初の文字がマッチするかを判別する"
   ]
  },
  {
   "cell_type": "code",
   "execution_count": 22,
   "id": "806b95e5-9b80-480c-95aa-230a91a496cb",
   "metadata": {},
   "outputs": [
    {
     "name": "stdout",
     "output_type": "stream",
     "text": [
      "None\n",
      "<re.Match object; span=(0, 1), match='0'>\n"
     ]
    }
   ],
   "source": [
    "print(re.search('^[0-9]', 'test0'))\n",
    "print(re.search('^[0-9]', '0test0'))"
   ]
  },
  {
   "cell_type": "markdown",
   "id": "d1b0162e-3a73-4c6f-b545-2b92afd5bfaf",
   "metadata": {},
   "source": [
    "### {n}：n回リピートする"
   ]
  },
  {
   "cell_type": "code",
   "execution_count": 24,
   "id": "d407114d-fae1-4f99-96e6-28b5191c5c4c",
   "metadata": {},
   "outputs": [
    {
     "name": "stdout",
     "output_type": "stream",
     "text": [
      "<re.Match object; span=(0, 4), match='2023'>\n",
      "None\n"
     ]
    }
   ],
   "source": [
    "print(re.search('^[0-9]{4}', '2023/7/14'))\n",
    "print(re.search('^[0-9]{4}', '23/7/14'))"
   ]
  },
  {
   "cell_type": "markdown",
   "id": "25e6b0be-00c4-46eb-9f04-b14557ca0c08",
   "metadata": {},
   "source": [
    "### {n, m}：最低n回、最高m回リピートする"
   ]
  },
  {
   "cell_type": "code",
   "execution_count": 26,
   "id": "fcbd2eae-9dfe-461c-801b-f988fe92f512",
   "metadata": {},
   "outputs": [
    {
     "name": "stdout",
     "output_type": "stream",
     "text": [
      "<re.Match object; span=(0, 4), match='2023'>\n",
      "<re.Match object; span=(0, 2), match='23'>\n"
     ]
    }
   ],
   "source": [
    "print(re.search('^[0-9]{2,4}', '2023/7/14'))\n",
    "print(re.search('^[0-9]{2,4}', '23/7/14'))"
   ]
  },
  {
   "cell_type": "markdown",
   "id": "9ea978d8-8560-4a8c-9aa4-bf8cd98f627d",
   "metadata": {},
   "source": [
    "### $：最後の文字が正しいかを判別"
   ]
  },
  {
   "cell_type": "code",
   "execution_count": 30,
   "id": "f5b2b46f-54f0-4369-93e3-2389c793da82",
   "metadata": {},
   "outputs": [
    {
     "name": "stdout",
     "output_type": "stream",
     "text": [
      "<re.Match object; span=(7, 9), match='14'>\n",
      "None\n"
     ]
    }
   ],
   "source": [
    "print(re.search('[0-9]{2}$', '2023/7/14'))\n",
    "print(re.search('[0-9]{2}$', '2023/7/3'))"
   ]
  },
  {
   "cell_type": "markdown",
   "id": "3f768683-8025-4a28-9799-e98703c935d7",
   "metadata": {},
   "source": [
    "### *：左のパターンを0回以上繰り返す"
   ]
  },
  {
   "cell_type": "code",
   "execution_count": 37,
   "id": "7c7a4e39-ed1e-458f-adcd-d5eb199787d4",
   "metadata": {},
   "outputs": [
    {
     "name": "stdout",
     "output_type": "stream",
     "text": [
      "None\n",
      "<re.Match object; span=(0, 2), match='ab'>\n",
      "<re.Match object; span=(0, 5), match='aaaab'>\n",
      "<re.Match object; span=(0, 1), match='b'>\n"
     ]
    }
   ],
   "source": [
    "print(re.search('a*b', 'a'))\n",
    "print(re.search('a*b', 'ab'))\n",
    "print(re.search('a*b', 'aaaab'))\n",
    "print(re.search('a*b', 'b'))"
   ]
  },
  {
   "cell_type": "markdown",
   "id": "7e8487e5-6f2f-437b-af17-e835bc5c0f4d",
   "metadata": {},
   "source": [
    "### +：左のパターンを1回以上繰り返す"
   ]
  },
  {
   "cell_type": "code",
   "execution_count": 38,
   "id": "57e38530-b93a-45b7-a5ad-0b2777bd7fac",
   "metadata": {},
   "outputs": [
    {
     "name": "stdout",
     "output_type": "stream",
     "text": [
      "None\n",
      "<re.Match object; span=(0, 2), match='ab'>\n",
      "<re.Match object; span=(0, 5), match='aaaab'>\n",
      "None\n"
     ]
    }
   ],
   "source": [
    "print(re.search('a+b', 'a'))\n",
    "print(re.search('a+b', 'ab'))\n",
    "print(re.search('a+b', 'aaaab'))\n",
    "print(re.search('a+b', 'b'))"
   ]
  },
  {
   "cell_type": "markdown",
   "id": "018f9851-c644-40b8-9300-dc983ab181e2",
   "metadata": {},
   "source": [
    "### ?：左のパターンを0回か1回繰り返す"
   ]
  },
  {
   "cell_type": "code",
   "execution_count": 55,
   "id": "28d6892c-12dc-445f-9a9f-269b945d83a7",
   "metadata": {},
   "outputs": [
    {
     "name": "stdout",
     "output_type": "stream",
     "text": [
      "None\n",
      "None\n",
      "None\n",
      "None\n",
      "<re.Match object; span=(0, 2), match='ac'>\n",
      "None\n",
      "<re.Match object; span=(0, 3), match='abc'>\n",
      "None\n"
     ]
    }
   ],
   "source": [
    "print(re.search('ab?c', 'a'))\n",
    "print(re.search('ab?c', 'b'))\n",
    "print(re.search('ab?c', 'c'))\n",
    "print(re.search('ab?c', 'ab'))\n",
    "print(re.search('ab?c', 'ac'))\n",
    "print(re.search('ab?c', 'bc'))\n",
    "print(re.search('ab?c', 'abc'))\n",
    "print(re.search('ab?c', 'abbc'))"
   ]
  },
  {
   "cell_type": "markdown",
   "id": "472408ac-eaed-4fca-824a-3571bd1b49e5",
   "metadata": {},
   "source": [
    "### | ：orを意味する"
   ]
  },
  {
   "cell_type": "code",
   "execution_count": 59,
   "id": "cf4ac167-7274-4bab-8b0a-f22649fadbaa",
   "metadata": {},
   "outputs": [
    {
     "name": "stdout",
     "output_type": "stream",
     "text": [
      "<re.Match object; span=(0, 3), match='abc'>\n",
      "<re.Match object; span=(0, 3), match='012'>\n",
      "None\n"
     ]
    }
   ],
   "source": [
    "print(re.search('abc|012', 'abc'))\n",
    "print(re.search('abc|012', '012'))\n",
    "print(re.search('abc|012', 'ab'))"
   ]
  },
  {
   "cell_type": "markdown",
   "id": "9932e030-6bc6-444a-9724-3e770e21ad93",
   "metadata": {},
   "source": [
    "### ()：グループを表す"
   ]
  },
  {
   "cell_type": "code",
   "execution_count": 63,
   "id": "530a3246-3bed-48a0-a369-748d46396d80",
   "metadata": {},
   "outputs": [
    {
     "name": "stdout",
     "output_type": "stream",
     "text": [
      "<re.Match object; span=(0, 4), match='test'>\n",
      "<re.Match object; span=(0, 4), match='text'>\n",
      "None\n"
     ]
    }
   ],
   "source": [
    "print(re.search('te(s|x)t', 'test'))\n",
    "print(re.search('te(s|x)t', 'text'))\n",
    "print(re.search('te(s|x)t', 'tet'))"
   ]
  },
  {
   "cell_type": "markdown",
   "id": "e6286ce3-fdb1-4529-b31a-8a6c6e34d248",
   "metadata": {},
   "source": [
    "### .：任意の一文字を表す"
   ]
  },
  {
   "cell_type": "code",
   "execution_count": 66,
   "id": "13c89800-b59f-457b-a79a-208f429cccf6",
   "metadata": {},
   "outputs": [
    {
     "name": "stdout",
     "output_type": "stream",
     "text": [
      "<re.Match object; span=(0, 3), match='hit'>\n",
      "<re.Match object; span=(0, 3), match='hot'>\n",
      "None\n"
     ]
    }
   ],
   "source": [
    "print(re.search('h.t', 'hit'))\n",
    "print(re.search('h.t', 'hot'))\n",
    "print(re.search('h.t', 'ht'))"
   ]
  },
  {
   "cell_type": "markdown",
   "id": "59c42fa9-6353-44b8-a9f3-c52c41919c85",
   "metadata": {},
   "source": [
    "### \\：エスケープ"
   ]
  },
  {
   "cell_type": "code",
   "execution_count": 68,
   "id": "82056798-ba0b-4219-af79-7b6efb96d0f9",
   "metadata": {},
   "outputs": [
    {
     "name": "stdout",
     "output_type": "stream",
     "text": [
      "<re.Match object; span=(0, 3), match='h.t'>\n",
      "None\n"
     ]
    }
   ],
   "source": [
    "print(re.search('h\\.t', 'h.t'))\n",
    "print(re.search('h\\.t', 'hit'))"
   ]
  },
  {
   "cell_type": "markdown",
   "id": "a0d42fa7-1be9-48fe-9ce8-ff22eeaaecd8",
   "metadata": {},
   "source": [
    "### \\w：[a-zA-Z0-9]全てのアルファベット、数字およびアンダースコア"
   ]
  },
  {
   "cell_type": "code",
   "execution_count": 73,
   "id": "9ef5106c-c085-4196-830a-57528733910c",
   "metadata": {},
   "outputs": [
    {
     "name": "stdout",
     "output_type": "stream",
     "text": [
      "<re.Match object; span=(0, 3), match='hit'>\n",
      "<re.Match object; span=(0, 3), match='h5t'>\n",
      "None\n"
     ]
    }
   ],
   "source": [
    "print(re.search('h\\wt', 'hit'))\n",
    "print(re.search('h\\wt', 'h5t'))\n",
    "print(re.search('h\\wt', 'h.t'))"
   ]
  },
  {
   "cell_type": "markdown",
   "id": "74da4635-cac3-4e42-b553-623f48ab8562",
   "metadata": {},
   "source": [
    "## 正規表現の問題"
   ]
  },
  {
   "cell_type": "code",
   "execution_count": 76,
   "id": "4cf3d3e2-f9ee-4ae5-b59d-1375eef042a0",
   "metadata": {},
   "outputs": [],
   "source": [
    "## Challenge1\n",
    "## input()で入力した生年月日(yyyy/mm/dd)のフォーマットが正しいフォーアットになっているかをチェックするプログラムを正規表現で作る"
   ]
  },
  {
   "cell_type": "code",
   "execution_count": 84,
   "id": "8b0cbeed-08e1-4fee-86cb-3c286c2cfe19",
   "metadata": {},
   "outputs": [
    {
     "name": "stdin",
     "output_type": "stream",
     "text": [
      "生年月日を入力してください(yyyy/mm/dd) 1880/10/11\n"
     ]
    },
    {
     "name": "stdout",
     "output_type": "stream",
     "text": [
      "1880/10/11は正しくないフォーマットです\n"
     ]
    },
    {
     "name": "stdin",
     "output_type": "stream",
     "text": [
      "生年月日を入力してください(yyyy/mm/dd) 1990/10/11\n"
     ]
    },
    {
     "name": "stdout",
     "output_type": "stream",
     "text": [
      "1990/10/11は正しいフォーマットです\n"
     ]
    }
   ],
   "source": [
    "pattern_dob = \"^(19|20)[0-9]{2}/([1-9]|1[0-2])/([1-9]|1[0-9]|2[0-9]|3[01])$\"\n",
    "\n",
    "while True:\n",
    "    dob = input(\"生年月日を入力してください(yyyy/mm/dd)\")\n",
    "    result = re.search(pattern_dob, dob)\n",
    "    if result:\n",
    "        print(f\"{dob}は正しいフォーマットです\")\n",
    "        break\n",
    "    else:\n",
    "        print(f\"{dob}は正しくないフォーマットです\")"
   ]
  },
  {
   "cell_type": "code",
   "execution_count": 87,
   "id": "04e3bb4b-9dea-4ea4-98aa-a51dd34570c8",
   "metadata": {},
   "outputs": [],
   "source": [
    "## challene2\n",
    "## emailアドレスのフォーマットが正しいフォーマットになっているか？をチェックするプログラムを作成する"
   ]
  },
  {
   "cell_type": "code",
   "execution_count": 88,
   "id": "1b1804a7-7c7b-4529-835a-ece7039c96f0",
   "metadata": {},
   "outputs": [
    {
     "name": "stdin",
     "output_type": "stream",
     "text": [
      "emailを入力してください koide.yukiteru@gmail.com\n"
     ]
    },
    {
     "name": "stdout",
     "output_type": "stream",
     "text": [
      "koide.yukiteru@gmail.comは正しいフォーマットです\n"
     ]
    }
   ],
   "source": [
    "pattern_email = \"^(\\w|\\.|-)+@(\\w|\\.|-)+\\.[a-zA-Z]{2,3}$\"\n",
    "\n",
    "while True:\n",
    "    email = input(\"emailを入力してください\")\n",
    "    result = re.search(pattern_email, email)\n",
    "    if result:\n",
    "        print(f\"{email}は正しいフォーマットです\")\n",
    "        break\n",
    "    else:\n",
    "        print(f\"{email}は正しくないフォーマットです\")"
   ]
  },
  {
   "cell_type": "code",
   "execution_count": null,
   "id": "5533d189-df3d-4081-af24-f58f33103ada",
   "metadata": {},
   "outputs": [],
   "source": []
  }
 ],
 "metadata": {
  "kernelspec": {
   "display_name": "Python 3 (ipykernel)",
   "language": "python",
   "name": "python3"
  },
  "language_info": {
   "codemirror_mode": {
    "name": "ipython",
    "version": 3
   },
   "file_extension": ".py",
   "mimetype": "text/x-python",
   "name": "python",
   "nbconvert_exporter": "python",
   "pygments_lexer": "ipython3",
   "version": "3.9.13"
  }
 },
 "nbformat": 4,
 "nbformat_minor": 5
}
