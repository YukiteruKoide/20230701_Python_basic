{
 "cells": [
  {
   "cell_type": "markdown",
   "id": "f57f12f5-9950-4492-aa3f-fb29831369c2",
   "metadata": {
    "jp-MarkdownHeadingCollapsed": true,
    "tags": []
   },
   "source": [
    "# 文字列"
   ]
  },
  {
   "cell_type": "code",
   "execution_count": 35,
   "id": "0d3eb313-b747-44d8-a7aa-a8ae71052eac",
   "metadata": {},
   "outputs": [
    {
     "name": "stdout",
     "output_type": "stream",
     "text": [
      "\n",
      "Hello World!!\n",
      "How are you doing?\n",
      "\n"
     ]
    }
   ],
   "source": [
    "print(\"\"\"\n",
    "Hello World!!\n",
    "How are you doing?\n",
    "\"\"\"\n",
    ")"
   ]
  },
  {
   "cell_type": "code",
   "execution_count": 3,
   "id": "31c86ffb-46f9-41c5-b761-2dfbe7986a8b",
   "metadata": {},
   "outputs": [
    {
     "name": "stdout",
     "output_type": "stream",
     "text": [
      "hello \n",
      "world!\n"
     ]
    }
   ],
   "source": [
    "print(\"hello \\nworld!\")"
   ]
  },
  {
   "cell_type": "code",
   "execution_count": 4,
   "id": "0cc7e77e-bdfe-47e2-b7e0-aeae3b774c76",
   "metadata": {},
   "outputs": [
    {
     "name": "stdout",
     "output_type": "stream",
     "text": [
      "hello \tworld!\n"
     ]
    }
   ],
   "source": [
    "print(\"hello \\tworld!\")"
   ]
  },
  {
   "cell_type": "code",
   "execution_count": 5,
   "id": "eeb23b28-dcc7-440e-ac8a-89b0ffe56589",
   "metadata": {},
   "outputs": [
    {
     "name": "stdout",
     "output_type": "stream",
     "text": [
      "I'm fine\n"
     ]
    }
   ],
   "source": [
    "print('I\\'m fine')"
   ]
  },
  {
   "cell_type": "code",
   "execution_count": 7,
   "id": "c4aa1fad-98bf-4195-a56c-cdd9ffb00bcf",
   "metadata": {},
   "outputs": [
    {
     "name": "stdout",
     "output_type": "stream",
     "text": [
      "helloworld\n"
     ]
    }
   ],
   "source": [
    "print(\"hello\" + \"world\")"
   ]
  },
  {
   "cell_type": "markdown",
   "id": "0e69d414-3153-4809-9eca-24bbfadeee87",
   "metadata": {
    "jp-MarkdownHeadingCollapsed": true,
    "tags": []
   },
   "source": [
    "# 変数へ代入：assignemt"
   ]
  },
  {
   "cell_type": "code",
   "execution_count": 10,
   "id": "5a7cd7f3-8654-47fc-b782-14f46761221d",
   "metadata": {},
   "outputs": [],
   "source": [
    "a = \"Hello\"\n",
    "b = \"world\""
   ]
  },
  {
   "cell_type": "code",
   "execution_count": 12,
   "id": "276b084c-cf12-46b8-ba92-c7ce9663f0ff",
   "metadata": {},
   "outputs": [
    {
     "name": "stdout",
     "output_type": "stream",
     "text": [
      "Helloworld\n"
     ]
    }
   ],
   "source": [
    "print(a + b)"
   ]
  },
  {
   "cell_type": "markdown",
   "id": "911f632d-3f24-4fac-a7a1-8236625d6020",
   "metadata": {
    "jp-MarkdownHeadingCollapsed": true,
    "tags": []
   },
   "source": [
    "# format"
   ]
  },
  {
   "cell_type": "code",
   "execution_count": 13,
   "id": "7af31ec7-8bff-441c-9c9a-fd054a4cab86",
   "metadata": {},
   "outputs": [
    {
     "data": {
      "text/plain": [
       "'hello world'"
      ]
     },
     "execution_count": 13,
     "metadata": {},
     "output_type": "execute_result"
    }
   ],
   "source": [
    "\"hello {}\".format(\"world\")"
   ]
  },
  {
   "cell_type": "code",
   "execution_count": 17,
   "id": "7a7d3cb3-a729-4763-81f8-df6fb6622eec",
   "metadata": {},
   "outputs": [
    {
     "name": "stdout",
     "output_type": "stream",
     "text": [
      "hello  world\n"
     ]
    }
   ],
   "source": [
    "print(\"{} {}\".format(\"hello\",\" world\"))"
   ]
  },
  {
   "cell_type": "code",
   "execution_count": 18,
   "id": "6c6ce68b-3965-4e55-acda-bd049e061e21",
   "metadata": {},
   "outputs": [
    {
     "name": "stdout",
     "output_type": "stream",
     "text": [
      "Hey, John!! How are you doing?\n"
     ]
    }
   ],
   "source": [
    "name = \"John\"\n",
    "print(\"Hey, {}!! How are you doing?\".format(name))"
   ]
  },
  {
   "cell_type": "code",
   "execution_count": 20,
   "id": "446288e7-1254-4ce9-ba61-4a75acdc2635",
   "metadata": {},
   "outputs": [
    {
     "name": "stdout",
     "output_type": "stream",
     "text": [
      "balance: 100\n"
     ]
    }
   ],
   "source": [
    "balance = 100\n",
    "print(\"balance: {}\".format(balance))"
   ]
  },
  {
   "cell_type": "markdown",
   "id": "8cba4f22-55e3-450f-b9f4-a625c22e4114",
   "metadata": {
    "jp-MarkdownHeadingCollapsed": true,
    "tags": []
   },
   "source": [
    "# fstring"
   ]
  },
  {
   "cell_type": "code",
   "execution_count": 21,
   "id": "0bbac52e-b728-45fd-9247-38419a08aa0f",
   "metadata": {},
   "outputs": [
    {
     "ename": "NameError",
     "evalue": "name 'hello' is not defined",
     "output_type": "error",
     "traceback": [
      "\u001b[0;31m---------------------------------------------------------------------------\u001b[0m",
      "\u001b[0;31mNameError\u001b[0m                                 Traceback (most recent call last)",
      "\u001b[0;32m/tmp/ipykernel_19/1226410463.py\u001b[0m in \u001b[0;36m<module>\u001b[0;34m\u001b[0m\n\u001b[0;32m----> 1\u001b[0;31m \u001b[0mprint\u001b[0m\u001b[0;34m(\u001b[0m\u001b[0;34mf\"{hello} {world}\"\u001b[0m\u001b[0;34m)\u001b[0m\u001b[0;34m\u001b[0m\u001b[0;34m\u001b[0m\u001b[0m\n\u001b[0m",
      "\u001b[0;31mNameError\u001b[0m: name 'hello' is not defined"
     ]
    }
   ],
   "source": [
    "print(f\"{hello} {world}\")"
   ]
  },
  {
   "cell_type": "code",
   "execution_count": 22,
   "id": "ff52d5ad-cfdc-4d5c-ac3a-2a946189ebf1",
   "metadata": {},
   "outputs": [
    {
     "name": "stdout",
     "output_type": "stream",
     "text": [
      "Hey, Emily!! How are you doing?\n"
     ]
    }
   ],
   "source": [
    "name = \"Emily\"\n",
    "print(f\"Hey, {name}!! How are you doing?\")"
   ]
  },
  {
   "cell_type": "code",
   "execution_count": 23,
   "id": "df14a333-cc0a-4df8-b189-49140e6d317b",
   "metadata": {},
   "outputs": [
    {
     "name": "stdout",
     "output_type": "stream",
     "text": [
      "balance: 100\n"
     ]
    }
   ],
   "source": [
    "balance = 100\n",
    "print(f\"balance: {balance}\")"
   ]
  },
  {
   "cell_type": "markdown",
   "id": "7b16b135-5850-4875-a14f-884396c3f671",
   "metadata": {
    "jp-MarkdownHeadingCollapsed": true,
    "tags": []
   },
   "source": [
    "# bulit in function"
   ]
  },
  {
   "cell_type": "code",
   "execution_count": 25,
   "id": "a8638f42-647d-47ae-89da-a0d2ebb4fe1f",
   "metadata": {},
   "outputs": [
    {
     "name": "stdout",
     "output_type": "stream",
     "text": [
      "139779359822064\n"
     ]
    }
   ],
   "source": [
    "# ID\n",
    "hello_id = id(\"hello\")\n",
    "print(hello_id)"
   ]
  },
  {
   "cell_type": "code",
   "execution_count": 26,
   "id": "4eb408df-7cc1-41a0-86e7-c1b543c421ac",
   "metadata": {},
   "outputs": [
    {
     "name": "stdout",
     "output_type": "stream",
     "text": [
      "139779359822064\n",
      "139779359822064\n"
     ]
    }
   ],
   "source": [
    "hello = \"hello\"\n",
    "hello2 = \"hello\"\n",
    "print(id(hello))\n",
    "print(id(hello2))"
   ]
  },
  {
   "cell_type": "markdown",
   "id": "40987109-6241-4610-a67d-dfdff6e04e14",
   "metadata": {
    "jp-MarkdownHeadingCollapsed": true,
    "tags": []
   },
   "source": [
    "# 数値型"
   ]
  },
  {
   "cell_type": "code",
   "execution_count": 28,
   "id": "c84bcb27-28bf-4f0b-b3b4-4ff9383c272a",
   "metadata": {},
   "outputs": [
    {
     "name": "stdout",
     "output_type": "stream",
     "text": [
      "<class 'int'>\n"
     ]
    }
   ],
   "source": [
    "# integer(整数)\n",
    "print(type(1))"
   ]
  },
  {
   "cell_type": "code",
   "execution_count": 31,
   "id": "ea376cdf-e0ea-401e-85c8-c535273b567a",
   "metadata": {},
   "outputs": [
    {
     "name": "stdout",
     "output_type": "stream",
     "text": [
      "<class 'float'>\n"
     ]
    }
   ],
   "source": [
    "# float(浮動小数点)\n",
    "print(type(0.1))"
   ]
  },
  {
   "cell_type": "markdown",
   "id": "8dbce3a9-ea53-46c3-b16e-153a7025c7e9",
   "metadata": {
    "jp-MarkdownHeadingCollapsed": true,
    "tags": []
   },
   "source": [
    "# 演算子"
   ]
  },
  {
   "cell_type": "code",
   "execution_count": 34,
   "id": "eb66e0d9-f1b3-4f7a-94de-c756b451a0c1",
   "metadata": {},
   "outputs": [
    {
     "name": "stdout",
     "output_type": "stream",
     "text": [
      "1.4\n",
      "0.6\n",
      "6\n",
      "0.5\n"
     ]
    }
   ],
   "source": [
    "#　四則演算\n",
    "print(1 + 0.4)\n",
    "print(1 - 0.4)\n",
    "print(2 * 3)\n",
    "print(1 / 2)"
   ]
  },
  {
   "cell_type": "code",
   "execution_count": 36,
   "id": "393d3de0-56d3-4874-af2b-152488352697",
   "metadata": {},
   "outputs": [
    {
     "name": "stdout",
     "output_type": "stream",
     "text": [
      "4\n"
     ]
    }
   ],
   "source": [
    "# floor division\n",
    "print(14 // 3)"
   ]
  },
  {
   "cell_type": "code",
   "execution_count": 38,
   "id": "623bd0eb-3650-403d-a4b1-9bedeb7b7055",
   "metadata": {},
   "outputs": [
    {
     "name": "stdout",
     "output_type": "stream",
     "text": [
      "2\n"
     ]
    }
   ],
   "source": [
    "# modulo、余剰、余り\n",
    "print(14 % 3)"
   ]
  },
  {
   "cell_type": "code",
   "execution_count": 39,
   "id": "7f0162a0-8175-4646-8463-a4049e0f7211",
   "metadata": {},
   "outputs": [
    {
     "name": "stdout",
     "output_type": "stream",
     "text": [
      "8\n"
     ]
    }
   ],
   "source": [
    "# exponentiation 冪乗\n",
    "print(2 ** 3)"
   ]
  },
  {
   "cell_type": "code",
   "execution_count": 40,
   "id": "ed3b871d-b94f-4c98-a7f7-6dc9e3e2f572",
   "metadata": {},
   "outputs": [
    {
     "name": "stdout",
     "output_type": "stream",
     "text": [
      "remain hit point is 59.7\n"
     ]
    }
   ],
   "source": [
    "hit_point = 100\n",
    "attack_point = 40.3\n",
    "remain = hit_point - attack_point\n",
    "print(f\"remain hit point is {remain}\")"
   ]
  },
  {
   "cell_type": "code",
   "execution_count": 46,
   "id": "f7223a23-112e-4f63-b7a9-9385411301f1",
   "metadata": {},
   "outputs": [
    {
     "name": "stdout",
     "output_type": "stream",
     "text": [
      "2\n"
     ]
    }
   ],
   "source": [
    "# augmented assignment\n",
    "a = 1\n",
    "#a = a + 1\n",
    "a += 1 # a = a + 1と同じ\n",
    "print(a)"
   ]
  },
  {
   "cell_type": "code",
   "execution_count": 45,
   "id": "24d4aac4-4028-445e-88d3-3a6cde263f25",
   "metadata": {},
   "outputs": [
    {
     "data": {
      "text/plain": [
       "2"
      ]
     },
     "execution_count": 45,
     "metadata": {},
     "output_type": "execute_result"
    }
   ],
   "source": [
    "a"
   ]
  },
  {
   "cell_type": "markdown",
   "id": "6775d174-72e9-4cc5-8225-83e295dd85f9",
   "metadata": {
    "jp-MarkdownHeadingCollapsed": true,
    "tags": []
   },
   "source": [
    "# エラー"
   ]
  },
  {
   "cell_type": "code",
   "execution_count": 47,
   "id": "1995900e-d771-46e7-948d-c5e1e934d251",
   "metadata": {},
   "outputs": [
    {
     "ename": "ZeroDivisionError",
     "evalue": "division by zero",
     "output_type": "error",
     "traceback": [
      "\u001b[0;31m---------------------------------------------------------------------------\u001b[0m",
      "\u001b[0;31mZeroDivisionError\u001b[0m                         Traceback (most recent call last)",
      "\u001b[0;32m/tmp/ipykernel_19/2877728193.py\u001b[0m in \u001b[0;36m<module>\u001b[0;34m\u001b[0m\n\u001b[0;32m----> 1\u001b[0;31m \u001b[0mresult\u001b[0m \u001b[0;34m=\u001b[0m \u001b[0;36m100\u001b[0m \u001b[0;34m/\u001b[0m \u001b[0;36m0\u001b[0m\u001b[0;34m\u001b[0m\u001b[0;34m\u001b[0m\u001b[0m\n\u001b[0m",
      "\u001b[0;31mZeroDivisionError\u001b[0m: division by zero"
     ]
    }
   ],
   "source": [
    "result = 100 / 0"
   ]
  },
  {
   "cell_type": "markdown",
   "id": "3f58ecc4-4bfe-4562-80c6-8c524ee6147d",
   "metadata": {
    "jp-MarkdownHeadingCollapsed": true,
    "tags": []
   },
   "source": [
    "# Boolean型：　True(真:1)とFalse(偽：０)"
   ]
  },
  {
   "cell_type": "code",
   "execution_count": 50,
   "id": "cd229d69-3dbf-47d0-86e7-282bb2d8bcb2",
   "metadata": {},
   "outputs": [
    {
     "name": "stdout",
     "output_type": "stream",
     "text": [
      "True\n",
      "False\n"
     ]
    }
   ],
   "source": [
    "print(True)\n",
    "print(False)"
   ]
  },
  {
   "cell_type": "code",
   "execution_count": 51,
   "id": "85ad0ea5-cca8-4669-8b70-3cbe01c76f26",
   "metadata": {},
   "outputs": [
    {
     "name": "stdout",
     "output_type": "stream",
     "text": [
      "True\n"
     ]
    }
   ],
   "source": [
    "balance = 1000\n",
    "withdrawal = 500\n",
    "print(balance > withdrawal)"
   ]
  },
  {
   "cell_type": "code",
   "execution_count": 52,
   "id": "870a0143-b412-43f4-846b-18ad011e6eca",
   "metadata": {},
   "outputs": [
    {
     "name": "stdout",
     "output_type": "stream",
     "text": [
      "2\n"
     ]
    }
   ],
   "source": [
    "print(1 + True)"
   ]
  },
  {
   "cell_type": "markdown",
   "id": "d0238cbf-7685-4f19-8088-cdb38ed6bed5",
   "metadata": {
    "jp-MarkdownHeadingCollapsed": true,
    "tags": []
   },
   "source": [
    "# 比較演算子"
   ]
  },
  {
   "cell_type": "code",
   "execution_count": 3,
   "id": "835dca10-97bc-407c-8db4-8ffc3bda4071",
   "metadata": {},
   "outputs": [
    {
     "name": "stdout",
     "output_type": "stream",
     "text": [
      "True\n",
      "True\n"
     ]
    }
   ],
   "source": [
    "a = 1\n",
    "b = 1\n",
    "c = 3\n",
    "print(a is b)\n",
    "print(a is not c)"
   ]
  },
  {
   "cell_type": "markdown",
   "id": "1a437ecc-7058-48fb-ae7a-275d57bdcc5f",
   "metadata": {
    "jp-MarkdownHeadingCollapsed": true,
    "tags": []
   },
   "source": [
    "# 論理演算子"
   ]
  },
  {
   "cell_type": "code",
   "execution_count": 7,
   "id": "0144886a-d38e-41cf-8c38-b1f0a562f0b5",
   "metadata": {},
   "outputs": [
    {
     "name": "stdout",
     "output_type": "stream",
     "text": [
      "False\n"
     ]
    }
   ],
   "source": [
    "age = 9\n",
    "high = 120\n",
    "\n",
    "print(age >= 10 and high >= 110)\n"
   ]
  },
  {
   "cell_type": "code",
   "execution_count": 16,
   "id": "b33a8de0-cc9d-4b1f-9f7c-6730005239df",
   "metadata": {},
   "outputs": [
    {
     "name": "stdout",
     "output_type": "stream",
     "text": [
      "False\n"
     ]
    }
   ],
   "source": [
    "master = False\n",
    "work_period = 4\n",
    "print(master == True or work_period >= 5)"
   ]
  },
  {
   "cell_type": "markdown",
   "id": "55fa0fe9-c7ce-4c7d-a18c-0d754564f36f",
   "metadata": {
    "jp-MarkdownHeadingCollapsed": true,
    "tags": []
   },
   "source": [
    "# if文"
   ]
  },
  {
   "cell_type": "code",
   "execution_count": 36,
   "id": "6cf5c0e7-d3b0-4f05-9cea-bacf04f30940",
   "metadata": {},
   "outputs": [
    {
     "name": "stdout",
     "output_type": "stream",
     "text": [
      "The withdrawal limit is 100\n"
     ]
    }
   ],
   "source": [
    "balance = 50\n",
    "withdraw = 120\n",
    "upper = 100\n",
    "\n",
    "if upper < withdraw:\n",
    "    print(\"The withdrawal limit is {}\".format(upper))\n",
    "    \n",
    "elif balance >= withdraw:\n",
    "    balance -= withdraw\n",
    "    print(\"Your balance is {}\".format(balance))\n",
    "    \n",
    "else:\n",
    "    print(\"NG\")"
   ]
  },
  {
   "cell_type": "code",
   "execution_count": 38,
   "id": "7b8ad63a-8708-454b-9b86-96545405fd0d",
   "metadata": {},
   "outputs": [
    {
     "name": "stdout",
     "output_type": "stream",
     "text": [
      "a has value\n"
     ]
    }
   ],
   "source": [
    "a = None\n",
    "if a: # is None\n",
    "    print(\"a is None!\")\n",
    "else:\n",
    "    print(\"a has value\")"
   ]
  },
  {
   "cell_type": "markdown",
   "id": "1d5d7aee-5a16-4a02-beec-0595622ebb98",
   "metadata": {
    "tags": []
   },
   "source": [
    "# input()"
   ]
  },
  {
   "cell_type": "code",
   "execution_count": 42,
   "id": "04503443-87e3-43cf-b535-5df124b751fa",
   "metadata": {},
   "outputs": [
    {
     "name": "stdin",
     "output_type": "stream",
     "text": [
      "何歳ですか？ 10\n"
     ]
    },
    {
     "name": "stdout",
     "output_type": "stream",
     "text": [
      "あなたは10歳です\n"
     ]
    }
   ],
   "source": [
    "age = input(\"何歳ですか？\")\n",
    "print(\"あなたは{}歳です\".format(age))"
   ]
  },
  {
   "cell_type": "code",
   "execution_count": 51,
   "id": "50d86f5b-b96d-43e1-8be4-786f1821b30e",
   "metadata": {},
   "outputs": [
    {
     "name": "stdin",
     "output_type": "stream",
     "text": [
      "何歳ですか？ 4\n"
     ]
    },
    {
     "name": "stdout",
     "output_type": "stream",
     "text": [
      "入れまてん！\n"
     ]
    }
   ],
   "source": [
    "age = int(input(\"何歳ですか？\"))\n",
    "casino_age = 18\n",
    "game_text = \"\"\"\n",
    "プレイするゲームを選んでください\n",
    "1. ルーレット\n",
    "2. ブラックジャック\n",
    "3. ポーカー\n",
    "\"\"\"\n",
    "\n",
    "if age >= casino_age:\n",
    "    print(\"お入りください\")\n",
    "    game = input(game_text)\n",
    "    if game == \"1\":\n",
    "        print(\"あなたが選んだゲームはルーレットです\")\n",
    "    elif game == \"2\":\n",
    "        print(\"あなたが選んだゲームはブラックジャックです\")\n",
    "    elif game == \"3\":\n",
    "        print(\"あなたが選んだゲームはポーカーです\")\n",
    "    else:\n",
    "        print(\"1~3で選んでください\")\n",
    "else:\n",
    "    print(\"入れまてん！\")"
   ]
  },
  {
   "cell_type": "markdown",
   "id": "02e7b36d-9673-4158-b84b-11e22556ddc1",
   "metadata": {
    "jp-MarkdownHeadingCollapsed": true,
    "tags": []
   },
   "source": [
    "# リスト"
   ]
  },
  {
   "cell_type": "code",
   "execution_count": 15,
   "id": "a375d130-f5c4-46f9-85ef-c7e21c89348c",
   "metadata": {},
   "outputs": [
    {
     "name": "stdout",
     "output_type": "stream",
     "text": [
      "['apple', 'peach', 'melon', 'grapes']\n",
      "apple\n",
      "peach\n",
      "melon\n",
      "grapes\n",
      "grapes\n",
      "g\n"
     ]
    }
   ],
   "source": [
    "# リストの定義\n",
    "fruits = ['apple','peach','melon','grapes']\n",
    "print(fruits)\n",
    "\n",
    "#　要素の取り出し\n",
    "print(fruits[0])\n",
    "print(fruits[1])\n",
    "print(fruits[2])\n",
    "print(fruits[3])\n",
    "\n",
    "# 後ろから抽出\n",
    "print(fruits[-1])\n",
    "\n",
    "#その中のさらに細かいキーワードを抽出\n",
    "print(fruits[-1][0])"
   ]
  },
  {
   "cell_type": "code",
   "execution_count": 16,
   "id": "4bf21db4-e1ed-4e78-8f4c-1e3d6f837eae",
   "metadata": {},
   "outputs": [
    {
     "name": "stdout",
     "output_type": "stream",
     "text": [
      "['apple', 'peach', 'melon', 'grapes', 'banana']\n"
     ]
    }
   ],
   "source": [
    "# .append：新しいオブジェクトを追加する\n",
    "fruits.append('banana')\n",
    "print(fruits)"
   ]
  },
  {
   "cell_type": "code",
   "execution_count": 17,
   "id": "67e766a9-d948-46ff-8f18-13a4f153ea64",
   "metadata": {},
   "outputs": [
    {
     "name": "stdout",
     "output_type": "stream",
     "text": [
      "['apple', 'peach', 'melon', 'lemon', 'grapes', 'banana']\n"
     ]
    }
   ],
   "source": [
    "# .insert：指定したindexに指定したオブジェクトを追加する\n",
    "fruits.insert(3, 'lemon')\n",
    "print(fruits)"
   ]
  },
  {
   "cell_type": "code",
   "execution_count": 20,
   "id": "1c5af2d2-2193-44ed-b1bb-61f2b620e78b",
   "metadata": {},
   "outputs": [
    {
     "name": "stdout",
     "output_type": "stream",
     "text": [
      "['apple', 'melon', 'lemon', 'grapes', 'banana']\n"
     ]
    }
   ],
   "source": [
    "# .remove：マッチした最初のオブジェクトを除く\n",
    "fruits.remove('peach')\n",
    "print(fruits)"
   ]
  },
  {
   "cell_type": "code",
   "execution_count": 24,
   "id": "12aa1ef7-5c36-46b8-9215-5e79a915d62a",
   "metadata": {},
   "outputs": [
    {
     "name": "stdout",
     "output_type": "stream",
     "text": [
      "['apple', 'banana', 'grapes', 'lemon', 'melon']\n",
      "['melon', 'lemon', 'grapes', 'banana', 'apple']\n"
     ]
    }
   ],
   "source": [
    "# .sort：昇順に並び替える\n",
    "fruits.sort()\n",
    "print(fruits)\n",
    "\n",
    "#降順\n",
    "fruits.sort(reverse = True)\n",
    "print(fruits)"
   ]
  },
  {
   "cell_type": "code",
   "execution_count": 25,
   "id": "ce98b358-8582-481c-8341-d252dedc677a",
   "metadata": {},
   "outputs": [
    {
     "name": "stdout",
     "output_type": "stream",
     "text": [
      "5\n"
     ]
    }
   ],
   "source": [
    "# len():リストの要素数を取得する\n",
    "print(len(fruits))"
   ]
  },
  {
   "cell_type": "code",
   "execution_count": 31,
   "id": "8aec2359-19fe-4760-bddd-c0d9c7c1ee13",
   "metadata": {},
   "outputs": [
    {
     "name": "stdout",
     "output_type": "stream",
     "text": [
      "[4, 6, 8]\n",
      "[2, 4, 6, 8]\n",
      "[2, 4, 6, 8]\n",
      "[8, 10]\n",
      "[8, 10, 12]\n",
      "[2, 4, 6, 8, 10, 12]\n"
     ]
    }
   ],
   "source": [
    "# [:]を使って、複数の要素を取ってくることができる（slicing）\n",
    "even = [2, 4, 6, 8, 10, 12]\n",
    "# 基本は「開始：未満」\n",
    "print(even[1:4])\n",
    "print(even[0:4])\n",
    "#0は省略可能\n",
    "print(even[:4])\n",
    "\n",
    "#マイナスを使って取ってくることもできる\n",
    "print(even[3:-1])\n",
    "print(even[3:])\n",
    "\n",
    "#全てを取るには\n",
    "print(even[:])"
   ]
  },
  {
   "cell_type": "markdown",
   "id": "5a755b3c-7077-432e-ab1d-5209a90e8c3d",
   "metadata": {
    "jp-MarkdownHeadingCollapsed": true,
    "tags": []
   },
   "source": [
    "# \"+\"演算子でリストを結合する"
   ]
  },
  {
   "cell_type": "code",
   "execution_count": 32,
   "id": "e985e1f1-537b-47e6-bb2c-364767b29068",
   "metadata": {},
   "outputs": [
    {
     "name": "stdout",
     "output_type": "stream",
     "text": [
      "[1, 2, 3, 4, 5, 6]\n"
     ]
    }
   ],
   "source": [
    "print([1, 2, 3] + [4, 5, 6])"
   ]
  },
  {
   "cell_type": "code",
   "execution_count": 33,
   "id": "631924d0-f634-4164-8c24-5cdd10a52086",
   "metadata": {},
   "outputs": [
    {
     "name": "stdout",
     "output_type": "stream",
     "text": [
      "[1, 2, 3, 4, 5, 6]\n"
     ]
    }
   ],
   "source": [
    "a = [1, 2, 3]\n",
    "b = [4, 5, 6]\n",
    "print(a + b)"
   ]
  },
  {
   "cell_type": "markdown",
   "id": "b29b2097-fb9c-4bc3-b6f2-6ec5d07e561d",
   "metadata": {
    "jp-MarkdownHeadingCollapsed": true,
    "tags": []
   },
   "source": [
    "# join & split"
   ]
  },
  {
   "cell_type": "code",
   "execution_count": 36,
   "id": "34667647-3f0d-4234-876c-8f8dd204bad3",
   "metadata": {},
   "outputs": [
    {
     "name": "stdout",
     "output_type": "stream",
     "text": [
      "Hi my name is John\n"
     ]
    }
   ],
   "source": [
    "# join\n",
    "text = \" \".join([\"Hi\", \"my\", \"name\", \"is\", \"John\"])\n",
    "print(text)"
   ]
  },
  {
   "cell_type": "code",
   "execution_count": 38,
   "id": "3f89d7a1-c0e4-4344-8226-c63c8516a90e",
   "metadata": {},
   "outputs": [
    {
     "name": "stdout",
     "output_type": "stream",
     "text": [
      "['Hi', 'my', 'name', 'is', 'John']\n"
     ]
    }
   ],
   "source": [
    "# split\n",
    "print(text.split(\" \"))"
   ]
  },
  {
   "cell_type": "code",
   "execution_count": 42,
   "id": "652d4710-fa17-4d49-a04d-b432eafa51cf",
   "metadata": {},
   "outputs": [
    {
     "name": "stdout",
     "output_type": "stream",
     "text": [
      "sample\n",
      "py\n"
     ]
    }
   ],
   "source": [
    "filename = \"sample.py\"\n",
    "print(filename.split(\".\")[0])\n",
    "print(filename.split(\".\")[1])\n"
   ]
  },
  {
   "cell_type": "markdown",
   "id": "051543e3-8429-4428-a910-6b3301331913",
   "metadata": {
    "jp-MarkdownHeadingCollapsed": true,
    "tags": []
   },
   "source": [
    "# in演算子"
   ]
  },
  {
   "cell_type": "code",
   "execution_count": 44,
   "id": "7af0fb98-0617-4843-bae2-1be64f862735",
   "metadata": {},
   "outputs": [
    {
     "name": "stdout",
     "output_type": "stream",
     "text": [
      "True\n",
      "False\n"
     ]
    }
   ],
   "source": [
    "fruits = ['apple','peach','melon','grapes']\n",
    "print('apple' in fruits)\n",
    "print('apple' not in fruits)"
   ]
  },
  {
   "cell_type": "markdown",
   "id": "925b916d-a966-4d84-bcf4-6b27bee3cc8f",
   "metadata": {
    "jp-MarkdownHeadingCollapsed": true,
    "tags": []
   },
   "source": [
    "# for ループ"
   ]
  },
  {
   "cell_type": "code",
   "execution_count": 49,
   "id": "407aec8f-f5c7-4011-be2c-b6b78495de45",
   "metadata": {},
   "outputs": [
    {
     "name": "stdout",
     "output_type": "stream",
     "text": [
      "I love apple!!\n",
      "I love peach!!\n",
      "I love melon!!\n",
      "I love grapes!!\n"
     ]
    }
   ],
   "source": [
    "fruits = ['apple','peach','melon','grapes']\n",
    "for fruit in fruits:\n",
    "    print(f\"I love {fruit}!!\")"
   ]
  },
  {
   "cell_type": "code",
   "execution_count": 52,
   "id": "d1d20129-ad41-48ed-b4f1-0a055111de4d",
   "metadata": {},
   "outputs": [
    {
     "name": "stdout",
     "output_type": "stream",
     "text": [
      "char: h\n",
      "char: e\n",
      "char: l\n",
      "char: l\n",
      "char: o\n",
      "char:  \n",
      "char: w\n",
      "char: o\n",
      "char: r\n",
      "char: l\n",
      "char: d\n"
     ]
    }
   ],
   "source": [
    "for char in \"hello world\":\n",
    "    print(f\"char: {char}\")"
   ]
  },
  {
   "cell_type": "code",
   "execution_count": 53,
   "id": "7e389f88-fc78-46ad-af81-0839d50e8080",
   "metadata": {},
   "outputs": [
    {
     "name": "stdin",
     "output_type": "stream",
     "text": [
      "好きなフルーツを入力してください apple\n"
     ]
    },
    {
     "name": "stdout",
     "output_type": "stream",
     "text": [
      "私はappleが好きです\n",
      "私はlemonが好きではありません\n"
     ]
    }
   ],
   "source": [
    "# challenge1\n",
    "fruits = [\"apple\", \"lemon\"]\n",
    "favorite_fruit = input(\"好きなフルーツを入力してください\")\n",
    "\n",
    "for fruit in fruits:\n",
    "    if favorite_fruit == fruit:\n",
    "        print(f\"私は{fruit}が好きです\")\n",
    "    else:\n",
    "        print(f\"私は{fruit}が好きではありません\")\n"
   ]
  },
  {
   "cell_type": "code",
   "execution_count": 62,
   "id": "6d68fd49-0e3c-43f8-a056-a13f624133c1",
   "metadata": {},
   "outputs": [
    {
     "name": "stdin",
     "output_type": "stream",
     "text": [
      "appleは好きですか？ Y or Nで答えてください。 N\n",
      "lemonは好きですか？ Y or Nで答えてください。 Y\n"
     ]
    },
    {
     "name": "stdout",
     "output_type": "stream",
     "text": [
      "私が好きなフルーツ：['lemon']\n",
      "私が嫌いなフルーツ：['apple']\n"
     ]
    }
   ],
   "source": [
    "# challenge2\n",
    "fruits = [\"apple\", \"lemon\"]\n",
    "love = []\n",
    "hate = []\n",
    "\n",
    "for fruit in fruits:\n",
    "    answer = input(f\"{fruit}は好きですか？ Y or Nで答えてください。\")\n",
    "    if answer == \"Y\":\n",
    "        love.append(fruit)\n",
    "    else:\n",
    "        hate.append(fruit)\n",
    "\n",
    "print(f\"私が好きなフルーツ：{love}\")\n",
    "print(f\"私が嫌いなフルーツ：{hate}\")\n"
   ]
  },
  {
   "cell_type": "markdown",
   "id": "8bdd4deb-7ee8-466c-af25-8209afb4e04e",
   "metadata": {
    "jp-MarkdownHeadingCollapsed": true,
    "tags": []
   },
   "source": [
    "# range"
   ]
  },
  {
   "cell_type": "code",
   "execution_count": 9,
   "id": "1311e3fb-3dcd-42fb-bead-eebfd1d15c4e",
   "metadata": {},
   "outputs": [
    {
     "name": "stdout",
     "output_type": "stream",
     "text": [
      "2\n",
      "3\n",
      "4\n",
      "5\n",
      "6\n",
      "7\n",
      "8\n",
      "9\n"
     ]
    }
   ],
   "source": [
    "# range(start, stop, step)\n",
    "for i in range(2, 10, 1):\n",
    "    print(i)"
   ]
  },
  {
   "cell_type": "code",
   "execution_count": 8,
   "id": "718dbe81-55d8-4845-98d4-b658015c5007",
   "metadata": {},
   "outputs": [
    {
     "name": "stdout",
     "output_type": "stream",
     "text": [
      "0\n",
      "1\n",
      "2\n"
     ]
    }
   ],
   "source": [
    "#start, stepは省略可能\n",
    "for i in range(3):\n",
    "    print(i)"
   ]
  },
  {
   "cell_type": "code",
   "execution_count": 11,
   "id": "4f7392d3-6be6-44b7-8430-34d0264d996f",
   "metadata": {},
   "outputs": [
    {
     "name": "stdout",
     "output_type": "stream",
     "text": [
      "Hello World\n",
      "Hello World\n",
      "Hello World\n"
     ]
    }
   ],
   "source": [
    "#同じことを繰り返すときにも使える\n",
    "for i in range(3):\n",
    "    print('Hello World')"
   ]
  },
  {
   "cell_type": "code",
   "execution_count": 16,
   "id": "9d23391b-bb60-4adb-9779-4a3cbae8b23c",
   "metadata": {},
   "outputs": [
    {
     "name": "stdout",
     "output_type": "stream",
     "text": [
      "1\n",
      "2\n",
      "Fizz\n",
      "4\n",
      "Buzz\n",
      "Fizz\n",
      "7\n",
      "8\n",
      "Fizz\n",
      "Buzz\n",
      "11\n",
      "Fizz\n",
      "13\n",
      "14\n",
      "FizzBuzz\n",
      "16\n",
      "17\n",
      "Fizz\n",
      "19\n",
      "Buzz\n",
      "Fizz\n",
      "22\n",
      "23\n",
      "Fizz\n",
      "Buzz\n",
      "26\n",
      "Fizz\n",
      "28\n",
      "29\n",
      "FizzBuzz\n",
      "31\n",
      "32\n",
      "Fizz\n",
      "34\n",
      "Buzz\n",
      "Fizz\n",
      "37\n",
      "38\n",
      "Fizz\n",
      "Buzz\n",
      "41\n",
      "Fizz\n",
      "43\n",
      "44\n",
      "FizzBuzz\n",
      "46\n",
      "47\n",
      "Fizz\n",
      "49\n",
      "Buzz\n"
     ]
    }
   ],
   "source": [
    "for i in range(1, 51, 1):\n",
    "    if i % 15 ==0:\n",
    "        print(\"FizzBuzz\")\n",
    "    elif i % 3 == 0:\n",
    "        print('Fizz')\n",
    "    elif i % 5 == 0:\n",
    "        print(\"Buzz\")\n",
    "    else:\n",
    "        print(i)"
   ]
  },
  {
   "cell_type": "markdown",
   "id": "b707d534-dc11-413b-a340-7a1dfcf9f102",
   "metadata": {
    "jp-MarkdownHeadingCollapsed": true,
    "tags": []
   },
   "source": [
    "# whileループ"
   ]
  },
  {
   "cell_type": "code",
   "execution_count": 19,
   "id": "017b87ed-c325-4a6e-bfb8-872d441f301e",
   "metadata": {},
   "outputs": [
    {
     "name": "stdout",
     "output_type": "stream",
     "text": [
      "0\n",
      "1\n",
      "2\n",
      "3\n",
      "4\n",
      "5\n",
      "6\n",
      "7\n",
      "8\n",
      "9\n"
     ]
    }
   ],
   "source": [
    "count = 0\n",
    "while count < 10:\n",
    "    print(count)\n",
    "    count += 1"
   ]
  },
  {
   "cell_type": "code",
   "execution_count": 23,
   "id": "b39f8a68-a1f0-41bc-b127-82be1cfb65cc",
   "metadata": {},
   "outputs": [
    {
     "name": "stdin",
     "output_type": "stream",
     "text": [
      "あなたは何歳ですか？ 120\n"
     ]
    },
    {
     "name": "stdout",
     "output_type": "stream",
     "text": [
      "入力された値は正しくありません\n"
     ]
    },
    {
     "name": "stdin",
     "output_type": "stream",
     "text": [
      "あなたは何歳ですか？ 20\n"
     ]
    },
    {
     "name": "stdout",
     "output_type": "stream",
     "text": [
      "あなたは20です\n"
     ]
    }
   ],
   "source": [
    "# break　と　contine\n",
    "while True:\n",
    "    age = int(input(\"あなたは何歳ですか？\"))\n",
    "    if not 0 <= age < 120:\n",
    "        print(\"入力された値は正しくありません\")\n",
    "        continue\n",
    "    else:\n",
    "        print(f\"あなたは{age}です\")\n",
    "        break"
   ]
  },
  {
   "cell_type": "code",
   "execution_count": 4,
   "id": "cdf99a7f-d8a2-40f9-85c4-2db139587093",
   "metadata": {},
   "outputs": [
    {
     "name": "stdin",
     "output_type": "stream",
     "text": [
      "あなたが探しているフルーツはappleですか？ y/n y\n"
     ]
    },
    {
     "name": "stdout",
     "output_type": "stream",
     "text": [
      "見つかってよかったですね\n"
     ]
    }
   ],
   "source": [
    "# for else\n",
    "\n",
    "fruits = ['apple', 'peach', 'grapes', 'banana']\n",
    "for fruit in fruits:\n",
    "    choice = input(f\"あなたが探しているフルーツは{fruit}ですか？ y/n\")\n",
    "    if choice == \"y\":\n",
    "        print(\"見つかってよかったですね\")\n",
    "        break\n",
    "    else :\n",
    "        print(\"そうですか・・・\")\n",
    "else:\n",
    "    print(\"お探しのフルーツは見つかりませんでした\")"
   ]
  },
  {
   "cell_type": "code",
   "execution_count": 5,
   "id": "fcec9f8f-9c22-44da-ba06-aadd29375fe9",
   "metadata": {},
   "outputs": [
    {
     "name": "stdout",
     "output_type": "stream",
     "text": [
      "0\n",
      "1\n",
      "2\n",
      "3\n",
      "4\n",
      "5\n",
      "6\n",
      "7\n",
      "8\n",
      "9\n",
      "countは10未満ではなくなりました\n"
     ]
    }
   ],
   "source": [
    "# while else\n",
    "count = 0\n",
    "while count < 10:\n",
    "    print(count)\n",
    "    count += 1\n",
    "else :\n",
    "    print(\"countは10未満ではなくなりました\")"
   ]
  },
  {
   "cell_type": "markdown",
   "id": "753fa63c-e190-4dfb-b89a-7e9a6c1c4519",
   "metadata": {
    "jp-MarkdownHeadingCollapsed": true,
    "tags": []
   },
   "source": [
    "# enumerate"
   ]
  },
  {
   "cell_type": "code",
   "execution_count": 10,
   "id": "7efe8ebc-a6e3-41f0-b713-cd6f3c7deea8",
   "metadata": {},
   "outputs": [
    {
     "name": "stdout",
     "output_type": "stream",
     "text": [
      "0\n",
      "apple\n",
      "1\n",
      "peach\n",
      "2\n",
      "grapes\n",
      "3\n",
      "banana\n",
      "(0, 'apple')\n",
      "(1, 'peach')\n",
      "(2, 'grapes')\n",
      "(3, 'banana')\n"
     ]
    }
   ],
   "source": [
    "# eumerate : インデックス情報も出してくれる\n",
    "fruits = ['apple', 'peach', 'grapes', 'banana']\n",
    "\n",
    "for idx, fruit in enumerate(fruits):\n",
    "    print(idx)\n",
    "    print(fruit)\n",
    "    \n",
    "for x in enumerate(fruits):\n",
    "    print(x)"
   ]
  },
  {
   "cell_type": "markdown",
   "id": "708cd712-035c-4ff8-b872-110c1cbb9eab",
   "metadata": {
    "jp-MarkdownHeadingCollapsed": true,
    "tags": []
   },
   "source": [
    "# リスト内包表記（list comprehension）"
   ]
  },
  {
   "cell_type": "code",
   "execution_count": 16,
   "id": "4e6d8513-3f79-4da4-9c7f-b1d24abc6211",
   "metadata": {},
   "outputs": [
    {
     "name": "stdout",
     "output_type": "stream",
     "text": [
      "[0, 1, 4, 9, 16, 25, 36, 49, 64, 81]\n",
      "[0, 1, 4, 9, 16, 25, 36, 49, 64, 81]\n",
      "[0, 4, 16, 36, 64]\n"
     ]
    }
   ],
   "source": [
    "# リスト内包表記（list comprehension）\n",
    "\n",
    "#通常の書き方\n",
    "square_list = [] #1,4,9,16,25,・・・\n",
    "for i in range(10):\n",
    "    square_list.append(i ** 2)\n",
    "print(square_list)\n",
    "\n",
    "#list comprehension\n",
    "square_list = [i ** 2 for i in range(10)]\n",
    "print(square_list)\n",
    "\n",
    "# if文も中に入れれる\n",
    "even_square_list = [i ** 2 for i in range(10) if i % 2 == 0]\n",
    "print(even_square_list)"
   ]
  },
  {
   "cell_type": "markdown",
   "id": "ed5947a7-0546-432d-98c0-5ba16f4d309c",
   "metadata": {
    "jp-MarkdownHeadingCollapsed": true,
    "tags": []
   },
   "source": [
    "# tuple"
   ]
  },
  {
   "cell_type": "code",
   "execution_count": 7,
   "id": "83b4e0c5-feba-47ad-8f64-1710dc782ed8",
   "metadata": {},
   "outputs": [
    {
     "name": "stdout",
     "output_type": "stream",
     "text": [
      "1990\n",
      "1990\n",
      "2\n",
      "3\n"
     ]
    }
   ],
   "source": [
    "# tuple(タプル）：変更できないリスト []ではなく()を使う\n",
    "date_of_birth = (1990, 2 ,3)\n",
    "print(date_of_birth[0])\n",
    "#変更する必要がないものはタプルを使う\n",
    "\n",
    "# unpackできる\n",
    "year, month, date = date_of_birth\n",
    "print(year)\n",
    "print(month)\n",
    "print(date)"
   ]
  },
  {
   "cell_type": "markdown",
   "id": "f6c78fb9-97c3-4658-8414-315526c58b65",
   "metadata": {
    "tags": []
   },
   "source": [
    "# dictionary：辞書：キーと値の組み合わせを複数保持するデータ型"
   ]
  },
  {
   "cell_type": "code",
   "execution_count": 19,
   "id": "64dbe16b-e1a4-4c92-b44a-a9b16118af87",
   "metadata": {},
   "outputs": [
    {
     "name": "stdout",
     "output_type": "stream",
     "text": [
      "red\n",
      "{'apple': 'red', 'lemon': 'yellow', 'grapes': 'purple', 'peach': 'pink'}\n",
      "dict\n",
      "apple\n",
      "lemon\n",
      "grapes\n",
      "peach\n"
     ]
    }
   ],
   "source": [
    "#　　dictionaryの定義\n",
    "fruits_colors = {'apple' : 'red' , 'lemon' : 'yellow' , 'grapes' : 'purple'}\n",
    "print(fruits_colors['apple'])\n",
    "\n",
    "# 新規に　dictionaryに追加\n",
    "fruits_colors['peach'] = 'pink'\n",
    "print(fruits_colors)\n",
    "\n",
    "# dictionaryの中にdictionaryも定義が可能\n",
    "dict_sample = {1: 'one' , 'two': {'inner': 'dict'}}\n",
    "print(dict_sample['two']['inner'])\n"
   ]
  },
  {
   "cell_type": "code",
   "execution_count": 24,
   "id": "ab2e5a71-57ba-450b-8691-4e314f56a6d4",
   "metadata": {},
   "outputs": [
    {
     "name": "stdout",
     "output_type": "stream",
     "text": [
      "apple\n",
      "lemon\n",
      "grapes\n",
      "peach\n",
      "red\n",
      "yellow\n",
      "purple\n",
      "pink\n",
      "apple is red.\n",
      "lemon is yellow.\n",
      "grapes is purple.\n",
      "peach is pink.\n"
     ]
    }
   ],
   "source": [
    "# .keys() values()\n",
    "for fruit in fruits_colors.keys():\n",
    "    print(fruit)\n",
    "    \n",
    "for colors in fruits_colors.values():\n",
    "    print(colors)\n",
    "\n",
    "# .items()\n",
    "for fruit, color in fruits_colors.items():\n",
    "    print(f\"{fruit} is {color}.\")"
   ]
  },
  {
   "cell_type": "markdown",
   "id": "d79c11e8-f5f0-47f7-8b62-08690f60e296",
   "metadata": {
    "tags": []
   },
   "source": [
    "# dictionaryの関数\n"
   ]
  },
  {
   "cell_type": "code",
   "execution_count": 1,
   "id": "b589ae7c-c1c9-4a88-be29-0784dddcce81",
   "metadata": {},
   "outputs": [
    {
     "name": "stdout",
     "output_type": "stream",
     "text": [
      "the key is not found\n",
      "Nothing\n",
      "{'apple': 'red', 'lemon': 'yellow', 'grape': 'purple', 'peach': 'pink', 'kiwi': 'green'}\n"
     ]
    }
   ],
   "source": [
    "#　　dictionaryの定義\n",
    "fruits_colors = {'apple' : 'red' , 'lemon' : 'yellow' , 'grape' : 'purple'}\n",
    "\n",
    "#if文での書き方\n",
    "if 'peach' in fruits_colors:\n",
    "    print(fruits_color['peach'])\n",
    "else:\n",
    "    print('the key is not found')\n",
    "\n",
    "# .get()関数での書き方\n",
    "print(fruits_colors.get('peach', 'Nothing'))\n",
    "# なければ、デフォルトで返す\n",
    "\n",
    "# .update()\n",
    "fruits_colors2 = {'peach' : 'pink' , 'kiwi' : 'green'}\n",
    "fruits_colors.update(fruits_colors2)\n",
    "print(fruits_colors)"
   ]
  },
  {
   "cell_type": "markdown",
   "id": "74784fbc-7606-4e63-8f05-0a7de8561257",
   "metadata": {},
   "source": [
    "# dictonaryを使った演習\n"
   ]
  },
  {
   "cell_type": "code",
   "execution_count": 11,
   "id": "8c4e5248-e6e3-4518-8979-0e4809ef9b38",
   "metadata": {},
   "outputs": [
    {
     "name": "stdin",
     "output_type": "stream",
     "text": [
      "何歳ですか？ 18\n"
     ]
    },
    {
     "name": "stdout",
     "output_type": "stream",
     "text": [
      "お入りください\n",
      "プレイするゲームをお選びください\n",
      "1 : ルーレット\n",
      "2 : ブラックジャック\n",
      "3 : ポーカー\n"
     ]
    },
    {
     "name": "stdin",
     "output_type": "stream",
     "text": [
      "何番にしますか？　: 2\n"
     ]
    },
    {
     "name": "stdout",
     "output_type": "stream",
     "text": [
      "あなたはブラックジャックを選びました\n"
     ]
    }
   ],
   "source": [
    "age = int(input(\"何歳ですか？\"))\n",
    "casino_age = 18\n",
    "game_dict = { '1' : 'ルーレット', '2' : 'ブラックジャック', '3' : 'ポーカー'}\n",
    "\n",
    "if age >= casino_age:\n",
    "    print(\"お入りください\")\n",
    "    while True:\n",
    "        print(\"プレイするゲームをお選びください\")\n",
    "        \n",
    "        for num, game_name in game_dict.items():\n",
    "            print(f'{num} : {game_name}')\n",
    "            \n",
    "        game = input(\"何番にしますか？　:\")\n",
    "        if game in game_dict:\n",
    "            print(f\"あなたは{game_dict[game]}を選びました\")\n",
    "            break\n",
    "        else:\n",
    "            print(\"1~3を選んでください\")\n",
    "else:\n",
    "    print(\"入れまてん！\")"
   ]
  },
  {
   "cell_type": "markdown",
   "id": "9a7eb8f8-c21e-40be-8de1-f3bf3f94a2bb",
   "metadata": {},
   "source": [
    "# セット（sets）：重複しないリスト"
   ]
  },
  {
   "cell_type": "code",
   "execution_count": 15,
   "id": "7c7a6e52-72e5-4523-a2e4-08106675dcc8",
   "metadata": {},
   "outputs": [
    {
     "name": "stdout",
     "output_type": "stream",
     "text": [
      "{'peach', 'apple', 'grapes', 'lomon'}\n"
     ]
    }
   ],
   "source": [
    "#結構マイナーなデータ型\n",
    "fruits = {'apple' , 'peach' , 'lomon' , 'grapes' , 'apple'}\n",
    "print(fruits)"
   ]
  },
  {
   "cell_type": "markdown",
   "id": "034037a2-f3f4-4f30-ac81-049f0afdb0c3",
   "metadata": {},
   "source": [
    "# キャスティング（casting）：データ型の変換"
   ]
  },
  {
   "cell_type": "code",
   "execution_count": 17,
   "id": "26481dde-cfc7-474e-95a1-de2b980c0da4",
   "metadata": {},
   "outputs": [
    {
     "name": "stdout",
     "output_type": "stream",
     "text": [
      "<class 'str'>\n",
      "<class 'int'>\n"
     ]
    }
   ],
   "source": [
    "print(type(str(1)))\n",
    "print(type(int('1')))"
   ]
  },
  {
   "cell_type": "code",
   "execution_count": 19,
   "id": "cd89ce98-b57e-40a0-a081-dc401e4caf64",
   "metadata": {},
   "outputs": [
    {
     "name": "stdout",
     "output_type": "stream",
     "text": [
      "11\n"
     ]
    }
   ],
   "source": [
    "print(str(1) + '1')"
   ]
  },
  {
   "cell_type": "code",
   "execution_count": 20,
   "id": "a0885b7b-c9ee-4175-93f1-4e69c52aa480",
   "metadata": {},
   "outputs": [
    {
     "name": "stdout",
     "output_type": "stream",
     "text": [
      "1.0\n"
     ]
    }
   ],
   "source": [
    "print(float(\"1\"))"
   ]
  },
  {
   "cell_type": "code",
   "execution_count": 23,
   "id": "a5b0ce52-0c82-42c6-bc2e-034df102d480",
   "metadata": {},
   "outputs": [
    {
     "name": "stdout",
     "output_type": "stream",
     "text": [
      "['h', 'e', 'l', 'l', 'o']\n"
     ]
    }
   ],
   "source": [
    "print(list(\"hello\"))"
   ]
  },
  {
   "cell_type": "code",
   "execution_count": 24,
   "id": "07bb274a-7f38-4c5e-a055-a06dc62e1215",
   "metadata": {},
   "outputs": [
    {
     "name": "stdout",
     "output_type": "stream",
     "text": [
      "False\n"
     ]
    }
   ],
   "source": [
    "print(bool(0))"
   ]
  },
  {
   "cell_type": "code",
   "execution_count": 25,
   "id": "d15e966a-1459-4222-bd1c-78d0fdfb62ee",
   "metadata": {},
   "outputs": [
    {
     "name": "stdout",
     "output_type": "stream",
     "text": [
      "(1, 2, 3, 3, 4, 5, 5, 5)\n"
     ]
    }
   ],
   "source": [
    "print(tuple([1 ,2 ,3, 3 , 4, 5, 5,5 ]))"
   ]
  },
  {
   "cell_type": "markdown",
   "id": "2b61dd71-8b3b-4195-a2be-6a6eaa503219",
   "metadata": {},
   "source": [
    "# mutable,imutable"
   ]
  },
  {
   "cell_type": "code",
   "execution_count": 28,
   "id": "c35b78cb-5f32-4255-883c-e2c8c043aa09",
   "metadata": {},
   "outputs": [],
   "source": [
    "# mutable：変更可能なオブジェクト list, dict ,set"
   ]
  },
  {
   "cell_type": "code",
   "execution_count": 31,
   "id": "0a57c9a9-dd06-420f-83f2-f141ab89f711",
   "metadata": {},
   "outputs": [
    {
     "name": "stdout",
     "output_type": "stream",
     "text": [
      "fruitsのIDは139907865807616\n",
      "['apple', 'peach', 'banana', 'lemon']\n",
      "fruitsのIDは139907865807616\n"
     ]
    }
   ],
   "source": [
    "fruits = ['apple' , 'peach' , 'banana']\n",
    "print(f\"fruitsのIDは{id(fruits)}\")\n",
    "fruits.append('lemon')\n",
    "print(fruits)\n",
    "print(f\"fruitsのIDは{id(fruits)}\")"
   ]
  },
  {
   "cell_type": "code",
   "execution_count": 27,
   "id": "76affce8-7f77-40d1-85de-7ea0657a4413",
   "metadata": {},
   "outputs": [],
   "source": [
    "# imutable:変更不可能なオブジェクト int, float, str, bool, tuple"
   ]
  },
  {
   "cell_type": "code",
   "execution_count": null,
   "id": "41659134-7faf-4101-98c0-16126cd55f23",
   "metadata": {},
   "outputs": [],
   "source": []
  }
 ],
 "metadata": {
  "kernelspec": {
   "display_name": "Python 3 (ipykernel)",
   "language": "python",
   "name": "python3"
  },
  "language_info": {
   "codemirror_mode": {
    "name": "ipython",
    "version": 3
   },
   "file_extension": ".py",
   "mimetype": "text/x-python",
   "name": "python",
   "nbconvert_exporter": "python",
   "pygments_lexer": "ipython3",
   "version": "3.9.13"
  }
 },
 "nbformat": 4,
 "nbformat_minor": 5
}
