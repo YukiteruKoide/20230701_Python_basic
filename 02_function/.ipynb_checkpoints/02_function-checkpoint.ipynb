{
 "cells": [
  {
   "cell_type": "markdown",
   "id": "2e4d89a9-41ff-4a82-ab22-5246dd4ec3d4",
   "metadata": {
    "jp-MarkdownHeadingCollapsed": true,
    "tags": []
   },
   "source": [
    "# 関数（function）"
   ]
  },
  {
   "cell_type": "code",
   "execution_count": 6,
   "id": "d8f61595-28e6-4957-af68-edaf5767661b",
   "metadata": {},
   "outputs": [
    {
     "name": "stdout",
     "output_type": "stream",
     "text": [
      "22.22222222222222\n"
     ]
    }
   ],
   "source": [
    "# 華氏から摂氏に変換する\n",
    "farhrenheit = 72\n",
    "\n",
    "# 華氏から摂氏に変換する関数の定義\n",
    "def farhrenheit_to_celsius(farhrenheit):\n",
    "    celsius = (farhrenheit - 32) * 5/9\n",
    "    return celsius\n",
    "\n",
    "print(farhrenheit_to_celsius(farhrenheit))"
   ]
  },
  {
   "cell_type": "code",
   "execution_count": 3,
   "id": "3ac87c5f-90ef-412f-9eb3-c739d4e806f2",
   "metadata": {},
   "outputs": [
    {
     "name": "stdout",
     "output_type": "stream",
     "text": [
      "first word is Hello, last word is Yuki.\n"
     ]
    }
   ],
   "source": [
    "# 最初と最後の文字を抽出する関数\n",
    "\n",
    "def get_first_last_word(text):\n",
    "    text = text.replace(\",\" , \"\")\n",
    "    words = text.split()\n",
    "    return words[0],words[-1]\n",
    "\n",
    "\n",
    "text = \"Hello, My name is Yuki\"\n",
    "first , last = get_first_last_word(text)\n",
    "print(f\"first word is {first}, last word is {last}.\")\n",
    "\n"
   ]
  },
  {
   "cell_type": "markdown",
   "id": "5a4daa65-af42-4ecb-8147-5abf5201d463",
   "metadata": {
    "jp-MarkdownHeadingCollapsed": true,
    "tags": []
   },
   "source": [
    "# 引数"
   ]
  },
  {
   "cell_type": "code",
   "execution_count": 10,
   "id": "aedf8df5-5186-40bf-9ffa-6c53643cf16e",
   "metadata": {},
   "outputs": [],
   "source": [
    "# 関数の定義\n",
    "def func(first, second, third = \"3\"):\n",
    "    print(f\"first: {first}, second: {second}, third: {third}\")"
   ]
  },
  {
   "cell_type": "code",
   "execution_count": 7,
   "id": "eefc8625-8e11-47a7-aa43-df9ccc1e3337",
   "metadata": {},
   "outputs": [
    {
     "name": "stdout",
     "output_type": "stream",
     "text": [
      "first: 1, second: 2, third: 3\n"
     ]
    }
   ],
   "source": [
    "# argument <-> parameter\n",
    "func(\"1\", \"2\", \"3\")"
   ]
  },
  {
   "cell_type": "code",
   "execution_count": 8,
   "id": "d4c67236-cf1e-4eb8-a76d-8ca05a4a5749",
   "metadata": {},
   "outputs": [
    {
     "name": "stdout",
     "output_type": "stream",
     "text": [
      "first: 1, second: 2, third: 3\n"
     ]
    }
   ],
   "source": [
    "func(\"1\", third = \"3\", second = \"2\")"
   ]
  },
  {
   "cell_type": "code",
   "execution_count": 11,
   "id": "e5f197d9-aa83-450d-9b9d-ff9ca9ce2a98",
   "metadata": {},
   "outputs": [
    {
     "name": "stdout",
     "output_type": "stream",
     "text": [
      "first: 1, second: 2, third: 3\n"
     ]
    }
   ],
   "source": [
    "func(\"1\", \"2\")"
   ]
  },
  {
   "cell_type": "markdown",
   "id": "28bdaf72-031f-4159-a8aa-35144895fc65",
   "metadata": {
    "jp-MarkdownHeadingCollapsed": true,
    "tags": []
   },
   "source": [
    "# *args, **kwargs"
   ]
  },
  {
   "cell_type": "code",
   "execution_count": 30,
   "id": "6a7c7fa5-2bca-4445-a605-a1385204b2cf",
   "metadata": {},
   "outputs": [],
   "source": [
    "# *args：タプルで受け取る\n",
    "# *と**はunpacking operator\n",
    "def get_average(*args):\n",
    "    num = len(args)\n",
    "    if num == 0:\n",
    "        return 0\n",
    "    else:\n",
    "        total = sum(args)\n",
    "        return total / num\n"
   ]
  },
  {
   "cell_type": "code",
   "execution_count": 23,
   "id": "dcde4b54-5b28-498b-aa63-59f9b72e085a",
   "metadata": {},
   "outputs": [
    {
     "data": {
      "text/plain": [
       "3.0"
      ]
     },
     "execution_count": 23,
     "metadata": {},
     "output_type": "execute_result"
    }
   ],
   "source": [
    "get_average(1, 2, 3, 4, 5)"
   ]
  },
  {
   "cell_type": "code",
   "execution_count": 25,
   "id": "71c611b3-5d20-4606-92b3-c0f14a102c6f",
   "metadata": {},
   "outputs": [],
   "source": [
    "# **kwargs：dictで受け取る\n",
    "def kwargs_func(**kwargs):\n",
    "    param1 = kwargs.get('param1', 1)\n",
    "    param2 = kwargs.get('param2', 2)\n",
    "    param3 = kwargs.get('param3', 3)\n",
    "    \n",
    "    print(f\"param1: {param1}, param2: {param2}, param{param3}\")\n"
   ]
  },
  {
   "cell_type": "code",
   "execution_count": 29,
   "id": "88a1dae8-ad03-4753-9f5b-e7066b41f950",
   "metadata": {},
   "outputs": [
    {
     "name": "stdout",
     "output_type": "stream",
     "text": [
      "param1: 1, param2: 2, param100\n"
     ]
    }
   ],
   "source": [
    "kwargs_func(param = 1, param2 = 2, param3 = 100, param4 = 1)"
   ]
  },
  {
   "cell_type": "code",
   "execution_count": 36,
   "id": "df04af3c-196a-43ee-89d7-18ce2f807031",
   "metadata": {},
   "outputs": [
    {
     "name": "stdout",
     "output_type": "stream",
     "text": [
      "oneのID：140459367905584\n",
      "twoのID：140459367905616\n",
      "第一引数aのID：140459367905584\n",
      "第二引数bのID：140459367905616\n",
      "3\n"
     ]
    }
   ],
   "source": [
    "# 参照渡し（byref） <-> 値渡し(byvalue)\n",
    "# 参照渡し：オブジェクトを渡してる\n",
    "# 値渡し：中の値を渡している\n",
    "\n",
    "def add_nums(a, b):\n",
    "    print(f\"第一引数aのID：{id(a)}\")\n",
    "    print(f\"第二引数bのID：{id(b)}\")\n",
    "    return a + b\n",
    "\n",
    "one = 1\n",
    "two = 2\n",
    "print(f\"oneのID：{id(one)}\")\n",
    "print(f\"twoのID：{id(two)}\")\n",
    "print(add_nums(one, two))"
   ]
  },
  {
   "cell_type": "code",
   "execution_count": 37,
   "id": "a01fb8ef-3898-448c-ad9f-9afb5bc19bab",
   "metadata": {},
   "outputs": [
    {
     "name": "stdout",
     "output_type": "stream",
     "text": [
      "140459367905584\n",
      "関数呼び出し前のone:1\n",
      "変更前のID140459367905584\n",
      "変更後のID140459367905616\n",
      "関数呼び出し後のone:1\n"
     ]
    }
   ],
   "source": [
    "def add_one(num):\n",
    "    print(f\"変更前のID{id(num)}\")\n",
    "    num += 1\n",
    "    print(f\"変更後のID{id(num)}\")\n",
    "    return num\n",
    "\n",
    "one = 1\n",
    "print(id(one))\n",
    "print(f\"関数呼び出し前のone:{one}\")\n",
    "add_one(one)\n",
    "print(f\"関数呼び出し後のone:{one}\")"
   ]
  },
  {
   "cell_type": "code",
   "execution_count": 41,
   "id": "e259cc0f-90db-4093-9466-88aaf961c223",
   "metadata": {},
   "outputs": [
    {
     "name": "stdout",
     "output_type": "stream",
     "text": [
      "関数呼び出し前のfruits:['apple', 'banana', 'peach']\n",
      "変更前のID140459260214080\n",
      "変更後のID140459260214080\n",
      "関数呼び出し後のfruits:['apple', 'banana', 'peach', 'lemon']\n"
     ]
    }
   ],
   "source": [
    "def add_fruit(fruits, fruit):\n",
    "    print(f\"変更前のID{id(fruits)}\")\n",
    "    fruits.append(fruit)\n",
    "    print(f\"変更後のID{id(fruits)}\")\n",
    "    return fruits\n",
    "\n",
    "myfruits = ['apple' , 'banana' , 'peach']\n",
    "myfruit = 'lemon'\n",
    "print(f\"関数呼び出し前のfruits:{myfruits}\")\n",
    "add_fruit(myfruits, myfruit)\n",
    "print(f\"関数呼び出し後のfruits:{myfruits}\")"
   ]
  },
  {
   "cell_type": "markdown",
   "id": "4675cb7e-e465-42cb-b7d4-a3be156b67df",
   "metadata": {
    "jp-MarkdownHeadingCollapsed": true,
    "tags": []
   },
   "source": [
    "# Type annotation"
   ]
  },
  {
   "cell_type": "code",
   "execution_count": 45,
   "id": "db8b45ff-d989-47e1-bd74-2b791781e358",
   "metadata": {},
   "outputs": [
    {
     "name": "stdout",
     "output_type": "stream",
     "text": [
      "12\n"
     ]
    }
   ],
   "source": [
    "# type annotation\n",
    "def add_nums(num1 : int, num2 : int) -> int:\n",
    "    return num1 + num2\n",
    "\n",
    "#　動的型付け言語\n",
    "print(add_nums(\"1\" , \"2\"))\n",
    "#pythonは動的型付け言語のため、先にtypeを決めに行くのは少し思想が違う"
   ]
  },
  {
   "cell_type": "markdown",
   "id": "0dc29e62-4044-47b7-91d5-45cbf36d8d03",
   "metadata": {
    "jp-MarkdownHeadingCollapsed": true,
    "tags": []
   },
   "source": [
    "# 変数のスコープ"
   ]
  },
  {
   "cell_type": "code",
   "execution_count": 50,
   "id": "f3ea41d3-9869-4ed5-bc6c-433e6ec43276",
   "metadata": {},
   "outputs": [
    {
     "name": "stdout",
     "output_type": "stream",
     "text": [
      "I'm Taro Yamada.\n"
     ]
    }
   ],
   "source": [
    "# ローカル変数\n",
    "def print_name_local():\n",
    "    first_name = \"Taro\"\n",
    "    last_name = \"Yamada\"\n",
    "    print(f\"I'm {first_name} {last_name}.\")\n",
    "    \n",
    "print_name_local()\n"
   ]
  },
  {
   "cell_type": "code",
   "execution_count": 57,
   "id": "0321f779-4b13-4176-b95a-ff229ced01cd",
   "metadata": {},
   "outputs": [
    {
     "name": "stdout",
     "output_type": "stream",
     "text": [
      "I'm 20 years old.\n",
      "20\n"
     ]
    }
   ],
   "source": [
    "# グローバル変数(モジュール変数)\n",
    "age = 30\n",
    "\n",
    "\n",
    "# 関数の定義\n",
    "def print_age():\n",
    "    age = 20 # ローカル変数\n",
    "    print(f\"I'm {age} years old.\")\n",
    "\n",
    "\n",
    "print_age()\n",
    "print(age)"
   ]
  },
  {
   "cell_type": "code",
   "execution_count": 63,
   "id": "ffa7e647-54f2-42a5-89c7-f68d1902efa2",
   "metadata": {},
   "outputs": [
    {
     "name": "stdout",
     "output_type": "stream",
     "text": [
      "関数1:1回目\n",
      "関数2:2回目\n",
      "関数1:3回目\n",
      "関数2:4回目\n",
      "4\n"
     ]
    }
   ],
   "source": [
    "# 関数の中で使用している変数をグローバル変数にするには\n",
    "CALL_COUNT = 0 # constant variable：変更してほしくない場合は、大文字にする\n",
    "\n",
    "\n",
    "def print_count1():\n",
    "    global CALL_COUNT\n",
    "    CALL_COUNT += 1\n",
    "    print(f\"関数1:{CALL_COUNT}回目\")\n",
    "\n",
    "\n",
    "def print_count2():\n",
    "    global CALL_COUNT\n",
    "    CALL_COUNT += 1\n",
    "    print(f\"関数2:{CALL_COUNT}回目\")\n",
    "\n",
    "\n",
    "print_count1()\n",
    "print_count2()\n",
    "print_count1()\n",
    "print_count2()\n",
    "print(CALL_COUNT)"
   ]
  },
  {
   "cell_type": "markdown",
   "id": "33a67013-117a-46fb-bd77-cc5cde47e42b",
   "metadata": {
    "jp-MarkdownHeadingCollapsed": true,
    "tags": []
   },
   "source": [
    "# 関数の中で関数を定義（nested_function）"
   ]
  },
  {
   "cell_type": "code",
   "execution_count": 66,
   "id": "08ddd70f-76bc-48f2-a639-df0504d6c361",
   "metadata": {},
   "outputs": [],
   "source": [
    "def outer():\n",
    "    def inner():\n",
    "        print(\"This is inner function\")\n",
    "        \n",
    "outer()"
   ]
  },
  {
   "cell_type": "markdown",
   "id": "189f8be3-9ed3-499e-92bd-67749c9da24d",
   "metadata": {
    "jp-MarkdownHeadingCollapsed": true,
    "tags": []
   },
   "source": [
    "# カプセル化（encapselatin）：外からアクセスできないようにする（情報隠蔽）"
   ]
  },
  {
   "cell_type": "code",
   "execution_count": 69,
   "id": "b6e8f920-3525-46f3-9e5a-cc7eec4dec03",
   "metadata": {},
   "outputs": [
    {
     "name": "stdout",
     "output_type": "stream",
     "text": [
      "ようこそカジノへ\n"
     ]
    }
   ],
   "source": [
    "def casino_entrance(age, min_age = 21):\n",
    "    \n",
    "    if age < min_age:\n",
    "        print(f\"{min_age}未満はお断りです。\")\n",
    "        return\n",
    "    \n",
    "    \n",
    "    def inner_casino_entrance():\n",
    "        print(\"ようこそカジノへ\")\n",
    "        \n",
    "        \n",
    "    return inner_casino_entrance()\n",
    "\n",
    "casino_entrance(28)"
   ]
  },
  {
   "cell_type": "markdown",
   "id": "a8a3ad15-6acb-4793-9bfc-4e96977c177d",
   "metadata": {
    "jp-MarkdownHeadingCollapsed": true,
    "tags": []
   },
   "source": [
    "# クロージャ(Closure)"
   ]
  },
  {
   "cell_type": "code",
   "execution_count": 72,
   "id": "0107bc07-a382-41b4-9364-4603e331b6be",
   "metadata": {},
   "outputs": [
    {
     "name": "stdout",
     "output_type": "stream",
     "text": [
      "16\n"
     ]
    }
   ],
   "source": [
    "# Closure:状態をキープした関数を作ることができる\n",
    "\n",
    "#　状態が静的\n",
    "def power(exponent):\n",
    "    def inner_power(base):\n",
    "        return base ** exponent\n",
    "    return inner_power\n",
    "\n",
    "\n",
    "power_four = power(4)\n",
    "print(power_four(2))"
   ]
  },
  {
   "cell_type": "code",
   "execution_count": 75,
   "id": "1621faed-70a3-41d6-a361-f2d47b397336",
   "metadata": {},
   "outputs": [
    {
     "name": "stdout",
     "output_type": "stream",
     "text": [
      "5.0\n",
      "10.0\n",
      "8.0\n",
      "8.5\n"
     ]
    }
   ],
   "source": [
    "#状態が動的\n",
    "def average():\n",
    "    nums = []\n",
    "    \n",
    "    \n",
    "    def inner_average(num):\n",
    "        nums.append(num)\n",
    "        return sum(nums) / len(nums)\n",
    "    return inner_average\n",
    "\n",
    "\n",
    "average_nums = average()\n",
    "print(average_nums(5))\n",
    "print(average_nums(15))\n",
    "print(average_nums(4))\n",
    "print(average_nums(10))"
   ]
  },
  {
   "cell_type": "markdown",
   "id": "3062932d-ec98-4301-b046-4af8d470b9cf",
   "metadata": {
    "jp-MarkdownHeadingCollapsed": true,
    "tags": []
   },
   "source": [
    "# Decorator：関数に機能を付属する（デコレートする）"
   ]
  },
  {
   "cell_type": "code",
   "execution_count": 80,
   "id": "7ef4cc56-2655-44a4-aeef-d0f88fc04f42",
   "metadata": {},
   "outputs": [
    {
     "name": "stdout",
     "output_type": "stream",
     "text": [
      "Hello!\n",
      "I'm Jiro\n",
      "Nice to meet you!\n"
     ]
    }
   ],
   "source": [
    "def greeting(func):\n",
    "    def inner(name):\n",
    "        print(\"Hello!\")\n",
    "        func(name)\n",
    "        print(\"Nice to meet you!\")\n",
    "    return inner\n",
    "\n",
    "\n",
    "@greeting\n",
    "def say_name(name):\n",
    "    print(f\"I'm {name}\")\n",
    "\n",
    "    \n",
    "# say_name = greeting(say_name)\n",
    "say_name(\"Jiro\")"
   ]
  },
  {
   "cell_type": "markdown",
   "id": "09eccdc0-76b2-458b-a579-676921653d08",
   "metadata": {
    "jp-MarkdownHeadingCollapsed": true,
    "tags": []
   },
   "source": [
    "# 再帰関数（recursive function）：関数内で自身の関数をcallする関数"
   ]
  },
  {
   "cell_type": "code",
   "execution_count": 82,
   "id": "7cdb9bb0-1bab-4ac2-8be0-3bb6835dcb8c",
   "metadata": {},
   "outputs": [
    {
     "name": "stdout",
     "output_type": "stream",
     "text": [
      "6\n"
     ]
    }
   ],
   "source": [
    "# 階乗：n!\n",
    "def factorial(n):\n",
    "    if n == 1:\n",
    "        return 1\n",
    "    else:\n",
    "        return n * factorial(n-1)\n",
    "\n",
    "print(factorial(3))"
   ]
  },
  {
   "cell_type": "code",
   "execution_count": 86,
   "id": "809e122b-3bb9-46b2-9753-7f9f257d2205",
   "metadata": {},
   "outputs": [
    {
     "name": "stdout",
     "output_type": "stream",
     "text": [
      "55\n"
     ]
    }
   ],
   "source": [
    "# フィボナッチ数列：1,1,2,3,5,8,13\n",
    "def fibonacci(n):\n",
    "    if n < 2:\n",
    "        return n\n",
    "    else:\n",
    "        return fibonacci(n - 2) + fibonacci(n - 1)\n",
    "\n",
    "print(fibonacci(10))"
   ]
  },
  {
   "cell_type": "markdown",
   "id": "f3124947-d6d0-4c57-8065-b82776e6c6c7",
   "metadata": {},
   "source": [
    "# lambda関数（無名関数）"
   ]
  },
  {
   "cell_type": "code",
   "execution_count": 90,
   "id": "fc8a0bc5-4de1-460a-b6ee-475bd17c287f",
   "metadata": {},
   "outputs": [
    {
     "name": "stdout",
     "output_type": "stream",
     "text": [
      "9\n",
      "9\n"
     ]
    }
   ],
   "source": [
    "#　元の関数\n",
    "def square(x):\n",
    "    return x * x\n",
    "print(square(3))\n",
    "\n",
    "# lambda関数\n",
    "s = lambda x: x * x\n",
    "print(s(3))\n"
   ]
  },
  {
   "cell_type": "code",
   "execution_count": 101,
   "id": "d681646d-0661-4e95-a8d5-b27b6b01998e",
   "metadata": {},
   "outputs": [
    {
     "name": "stdout",
     "output_type": "stream",
     "text": [
      "[5, 43, 5, 67]\n"
     ]
    }
   ],
   "source": [
    "numbers = [6, 2, 5, 43, 5, 36, 67, 2]\n",
    "\n",
    "filtered_num = filter(lambda num: num % 2, numbers)\n",
    "print(list(filtered_num))"
   ]
  },
  {
   "cell_type": "markdown",
   "id": "94198236-0e0e-46f6-b359-c2f9f502f2c6",
   "metadata": {},
   "source": [
    "# docsting：関数の説明を書く"
   ]
  },
  {
   "cell_type": "code",
   "execution_count": 105,
   "id": "1c892960-9d8e-4fd2-9497-fe5272bdcbeb",
   "metadata": {},
   "outputs": [
    {
     "name": "stdout",
     "output_type": "stream",
     "text": [
      "\n",
      "    multiply num1 num2 and return the result\n",
      "    :param num1　：　first number that you want to multiply\n",
      "    :param num2　：　second number that you want to multiply\n",
      "    :return : num1 * num2\n",
      "    \n"
     ]
    }
   ],
   "source": [
    "def multiply(num1, num2):\n",
    "    \"\"\"\n",
    "    multiply num1 num2 and return the result\n",
    "    :param num1　：　first number that you want to multiply\n",
    "    :param num2　：　second number that you want to multiply\n",
    "    :return : num1 * num2\n",
    "    \"\"\"\n",
    "    return num1 * num2\n",
    "\n",
    "\n",
    "print(multiply.__doc__)"
   ]
  }
 ],
 "metadata": {
  "kernelspec": {
   "display_name": "Python 3 (ipykernel)",
   "language": "python",
   "name": "python3"
  },
  "language_info": {
   "codemirror_mode": {
    "name": "ipython",
    "version": 3
   },
   "file_extension": ".py",
   "mimetype": "text/x-python",
   "name": "python",
   "nbconvert_exporter": "python",
   "pygments_lexer": "ipython3",
   "version": "3.9.13"
  }
 },
 "nbformat": 4,
 "nbformat_minor": 5
}
